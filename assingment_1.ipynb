{
 "cells": [
  {
   "cell_type": "code",
   "execution_count": 15,
   "id": "31c5d73e",
   "metadata": {},
   "outputs": [],
   "source": [
    "#question1\n",
    "ages = [19, 22, 19, 24, 20, 25, 26, 24, 25, 24]"
   ]
  },
  {
   "cell_type": "code",
   "execution_count": 16,
   "id": "8ed59bf0",
   "metadata": {},
   "outputs": [
    {
     "data": {
      "text/plain": [
       "[19, 22, 19, 24, 20, 25, 26, 24, 25, 24]"
      ]
     },
     "execution_count": 16,
     "metadata": {},
     "output_type": "execute_result"
    }
   ],
   "source": [
    "ages"
   ]
  },
  {
   "cell_type": "code",
   "execution_count": 17,
   "id": "eafdcf7b",
   "metadata": {},
   "outputs": [
    {
     "data": {
      "text/plain": [
       "[19, 19, 20, 22, 24, 24, 24, 25, 25, 26]"
      ]
     },
     "execution_count": 17,
     "metadata": {},
     "output_type": "execute_result"
    }
   ],
   "source": [
    "ages.sort()#the sort funtion is used to sort the list#\n",
    "ages"
   ]
  },
  {
   "cell_type": "code",
   "execution_count": 18,
   "id": "0c44f0ca",
   "metadata": {},
   "outputs": [
    {
     "name": "stdout",
     "output_type": "stream",
     "text": [
      "19\n"
     ]
    }
   ],
   "source": [
    "print(min(ages))"
   ]
  },
  {
   "cell_type": "code",
   "execution_count": 19,
   "id": "b943c460",
   "metadata": {},
   "outputs": [
    {
     "data": {
      "text/plain": [
       "[19, 19, 20, 22, 24, 24, 24, 25, 25, 26, 19, 26]"
      ]
     },
     "execution_count": 19,
     "metadata": {},
     "output_type": "execute_result"
    }
   ],
   "source": [
    "ages.append(min(ages))#the append function is used to add data to the the list by calculating the minimum and maximum age as argument#\n",
    "ages.append(max(ages))\n",
    "ages"
   ]
  },
  {
   "cell_type": "code",
   "execution_count": 5,
   "id": "3395b4b0",
   "metadata": {},
   "outputs": [],
   "source": [
    "import numpy as np #this is to import the numpy package#"
   ]
  },
  {
   "cell_type": "code",
   "execution_count": 6,
   "id": "de6abbf8",
   "metadata": {},
   "outputs": [
    {
     "data": {
      "text/plain": [
       "24.0"
      ]
     },
     "execution_count": 6,
     "metadata": {},
     "output_type": "execute_result"
    }
   ],
   "source": [
    "np.median(ages)#The median is built in function used to calculate the median of the list data#"
   ]
  },
  {
   "cell_type": "code",
   "execution_count": 7,
   "id": "57f49a79",
   "metadata": {
    "scrolled": true
   },
   "outputs": [
    {
     "data": {
      "text/plain": [
       "22.75"
      ]
     },
     "execution_count": 7,
     "metadata": {},
     "output_type": "execute_result"
    }
   ],
   "source": [
    "np.average(ages)# the average is built in function used to calculate the average of the list data#"
   ]
  },
  {
   "cell_type": "code",
   "execution_count": 8,
   "id": "e1e65fb0",
   "metadata": {},
   "outputs": [
    {
     "data": {
      "text/plain": [
       "range(19, 26)"
      ]
     },
     "execution_count": 8,
     "metadata": {},
     "output_type": "execute_result"
    }
   ],
   "source": [
    "ages_range=range(min(ages),max(ages)) #the range function is used to find ranges of given list#\n",
    "ages_range"
   ]
  },
  {
   "cell_type": "code",
   "execution_count": 9,
   "id": "829f5ae1",
   "metadata": {},
   "outputs": [
    {
     "data": {
      "text/plain": [
       "{'name': 'puppy',\n",
       " 'color': 'black',\n",
       " 'breed': 'german_sheprd',\n",
       " 'legs': 'four',\n",
       " 'age': 'six moths'}"
      ]
     },
     "execution_count": 9,
     "metadata": {},
     "output_type": "execute_result"
    }
   ],
   "source": [
    "#question2\n",
    "dog={} #Dictionaries are optimized to retrieve values when the key is known#\n",
    "dog['name']='puppy'#created dictionary with dog name#\n",
    "dog['color']='black'#created dictionary with dog color#\n",
    "dog['breed']='german_sheprd'#created dictionary with dog breed#\n",
    "dog['legs']='four'#created dictionary with dog legs#\n",
    "dog['age']='six moths'#created dictionary with dog age#\n",
    "dog"
   ]
  },
  {
   "cell_type": "code",
   "execution_count": 11,
   "id": "08be5605",
   "metadata": {},
   "outputs": [
    {
     "data": {
      "text/plain": [
       "{'first_name': 'vinod',\n",
       " 'last_name': 'kumar',\n",
       " 'gender': 'Male',\n",
       " 'age': 24,\n",
       " 'marital_status': 'single',\n",
       " 'skills': ['fast learner', 'positive attitude'],\n",
       " 'city': 'HYD',\n",
       " 'address': 'lingampalli'}"
      ]
     },
     "execution_count": 11,
     "metadata": {},
     "output_type": "execute_result"
    }
   ],
   "source": [
    "student={} #created dictionary with name student#\n",
    "student['first_name']='vinod'#added first_name to student dictionary#\n",
    "student['last_name']='kumar'#added last_name to student dictionary#\n",
    "student['gender']='Male'#added gender to student dictionary#\n",
    "student['age']=24 #added first age to student dictionary#\n",
    "student['marital_status']='single'#added marital_status to student dictionary#\n",
    "student['skills']=['fast learner','positive attitude']#added skills to student dictionary#\n",
    "student['city']='HYD'#added city to student dictionary#\n",
    "student['address']='lingampalli'#added address to student dictionary#\n",
    "student"
   ]
  },
  {
   "cell_type": "code",
   "execution_count": 12,
   "id": "bc79d1bd",
   "metadata": {},
   "outputs": [
    {
     "data": {
      "text/plain": [
       "8"
      ]
     },
     "execution_count": 12,
     "metadata": {},
     "output_type": "execute_result"
    }
   ],
   "source": [
    "len(student) # length function is used find the length of string#"
   ]
  },
  {
   "cell_type": "code",
   "execution_count": 13,
   "id": "8d256153",
   "metadata": {},
   "outputs": [
    {
     "name": "stdout",
     "output_type": "stream",
     "text": [
      "['fast learner', 'positive attitude']\n",
      "<class 'list'>\n"
     ]
    }
   ],
   "source": [
    "print(student['skills']) # printed student skills and class list#\n",
    "print(type(student['skills']))"
   ]
  },
  {
   "cell_type": "code",
   "execution_count": 14,
   "id": "fff05d3c",
   "metadata": {},
   "outputs": [
    {
     "data": {
      "text/plain": [
       "{'first_name': 'vinod',\n",
       " 'last_name': 'kumar',\n",
       " 'gender': 'Male',\n",
       " 'age': 24,\n",
       " 'marital_status': 'single',\n",
       " 'skills': ['fast learner', 'positive attitude', 'techi'],\n",
       " 'city': 'HYD',\n",
       " 'address': 'lingampalli'}"
      ]
     },
     "execution_count": 14,
     "metadata": {},
     "output_type": "execute_result"
    }
   ],
   "source": [
    "student['skills'].append('techi') #added one more skill to skills list#\n",
    "student"
   ]
  },
  {
   "cell_type": "code",
   "execution_count": 15,
   "id": "44aa92b2",
   "metadata": {},
   "outputs": [
    {
     "data": {
      "text/plain": [
       "dict_keys(['first_name', 'last_name', 'gender', 'age', 'marital_status', 'skills', 'city', 'address'])"
      ]
     },
     "execution_count": 15,
     "metadata": {},
     "output_type": "execute_result"
    }
   ],
   "source": [
    "student.keys() #Here, I got dictionary keys as a list. Keys are analogous to indexes of a list. When using lists, you access the elements via the index. With dictionaries you access values via the keys.#"
   ]
  },
  {
   "cell_type": "code",
   "execution_count": 16,
   "id": "5d077f72",
   "metadata": {},
   "outputs": [
    {
     "data": {
      "text/plain": [
       "dict_values(['vinod', 'kumar', 'Male', 24, 'single', ['fast learner', 'positive attitude', 'techi'], 'HYD', 'lingampalli'])"
      ]
     },
     "execution_count": 16,
     "metadata": {},
     "output_type": "execute_result"
    }
   ],
   "source": [
    "student.values() #Here, I got dictionary values as a list. values() is an inbuilt method in Python programming language that returns a view object#"
   ]
  },
  {
   "cell_type": "code",
   "execution_count": 25,
   "id": "cd58a63e",
   "metadata": {},
   "outputs": [
    {
     "name": "stdout",
     "output_type": "stream",
     "text": [
      "('jenny', 'penny')\n",
      "('james', 'jhon')\n"
     ]
    }
   ],
   "source": [
    "#question 3\n",
    "sis=('jenny','penny')#Tuple is one of 4 built-in data types in Python used to store collections of data, the other 3 are List, Set, and Dictionary, all with different qualities and usage.\n",
    "bro=('james','jhon')\n",
    "print(sis)\n",
    "print(bro)"
   ]
  },
  {
   "cell_type": "code",
   "execution_count": 26,
   "id": "b78f4757",
   "metadata": {},
   "outputs": [
    {
     "data": {
      "text/plain": [
       "('jenny', 'penny', 'james', 'jhon')"
      ]
     },
     "execution_count": 26,
     "metadata": {},
     "output_type": "execute_result"
    }
   ],
   "source": [
    "siblings=sis+bro #added siblings to tuple#\n",
    "siblings"
   ]
  },
  {
   "cell_type": "code",
   "execution_count": 27,
   "id": "dd3c8079",
   "metadata": {},
   "outputs": [
    {
     "data": {
      "text/plain": [
       "4"
      ]
     },
     "execution_count": 27,
     "metadata": {},
     "output_type": "execute_result"
    }
   ],
   "source": [
    "len(siblings) #length is a a function used to find  length of string#"
   ]
  },
  {
   "cell_type": "code",
   "execution_count": 28,
   "id": "869a5166",
   "metadata": {},
   "outputs": [
    {
     "data": {
      "text/plain": [
       "('jenny', 'penny', 'james', 'jhon', 'kane', 'linda')"
      ]
     },
     "execution_count": 28,
     "metadata": {},
     "output_type": "execute_result"
    }
   ],
   "source": [
    "family_members=siblings+('kane','linda')# Modify the siblings tuple and add the name of your father and mother and assign it to\n",
    "family_members\n",
    "family_members"
   ]
  },
  {
   "cell_type": "code",
   "execution_count": 13,
   "id": "f776f077",
   "metadata": {},
   "outputs": [],
   "source": [
    "#question 4\n",
    "it_companies = {'Facebook', 'Google', 'Microsoft', 'Apple', 'IBM', 'Oracle', 'Amazon'}\n",
    "A = {19, 22, 24, 20, 25, 26}\n",
    "B = {19, 22, 20, 25, 26, 24, 28, 27}\n",
    "age = [22, 19, 24, 25, 26, 24, 25, 24]"
   ]
  },
  {
   "cell_type": "code",
   "execution_count": 14,
   "id": "0d7afead",
   "metadata": {},
   "outputs": [
    {
     "data": {
      "text/plain": [
       "7"
      ]
     },
     "execution_count": 14,
     "metadata": {},
     "output_type": "execute_result"
    }
   ],
   "source": [
    "len(it_companies)#Here, I have found the length of it_companies by using len() function.#"
   ]
  },
  {
   "cell_type": "code",
   "execution_count": 7,
   "id": "4b0a3f3b",
   "metadata": {},
   "outputs": [
    {
     "data": {
      "text/plain": [
       "{'Amazon',\n",
       " 'Apple',\n",
       " 'Facebook',\n",
       " 'Google',\n",
       " 'IBM',\n",
       " 'Microsoft',\n",
       " 'Oracle',\n",
       " 'Twitter'}"
      ]
     },
     "execution_count": 7,
     "metadata": {},
     "output_type": "execute_result"
    }
   ],
   "source": [
    "it_companies.add('Twitter')#Here, I have added twitter to it_companies.by using add ()\n",
    "it_companies"
   ]
  },
  {
   "cell_type": "code",
   "execution_count": 9,
   "id": "bf2f1505",
   "metadata": {},
   "outputs": [
    {
     "data": {
      "text/plain": [
       "{'Amazon',\n",
       " 'Apple',\n",
       " 'Facebook',\n",
       " 'Google',\n",
       " 'IBM',\n",
       " 'Infosys',\n",
       " 'Microsoft',\n",
       " 'Oracle',\n",
       " 'TCS',\n",
       " 'Twitter'}"
      ]
     },
     "execution_count": 9,
     "metadata": {},
     "output_type": "execute_result"
    }
   ],
   "source": [
    "it_companies.update(['TCS','Infosys'])#Here, I Insert multiple IT companies at once to the set it_companies by using update ().\n",
    "it_companies"
   ]
  },
  {
   "cell_type": "code",
   "execution_count": 10,
   "id": "7c95390b",
   "metadata": {},
   "outputs": [
    {
     "data": {
      "text/plain": [
       "{'Amazon',\n",
       " 'Apple',\n",
       " 'Facebook',\n",
       " 'Google',\n",
       " 'IBM',\n",
       " 'Infosys',\n",
       " 'Microsoft',\n",
       " 'Oracle',\n",
       " 'Twitter'}"
      ]
     },
     "execution_count": 10,
     "metadata": {},
     "output_type": "execute_result"
    }
   ],
   "source": [
    "it_companies.remove('TCS')#Here, I removed one of the companies from the set it_companies by using remove ().\n",
    "\n",
    "it_companies"
   ]
  },
  {
   "cell_type": "markdown",
   "id": "eb00467c",
   "metadata": {},
   "source": [
    "The difference between discard () and remove () method is, in discard () method, if the element is not present in the set, it does not throw any exception, wherein remove () method if the element is not present in the set, it throws an exception."
   ]
  },
  {
   "cell_type": "code",
   "execution_count": 11,
   "id": "075f9fc4",
   "metadata": {},
   "outputs": [
    {
     "data": {
      "text/plain": [
       "{19, 20, 22, 24, 25, 26, 27, 28}"
      ]
     },
     "execution_count": 11,
     "metadata": {},
     "output_type": "execute_result"
    }
   ],
   "source": [
    "A.union(B)#Here,I joined A and B by using A.union(B)."
   ]
  },
  {
   "cell_type": "code",
   "execution_count": 12,
   "id": "418fbf40",
   "metadata": {},
   "outputs": [
    {
     "data": {
      "text/plain": [
       "{19, 20, 22, 24, 25, 26}"
      ]
     },
     "execution_count": 12,
     "metadata": {},
     "output_type": "execute_result"
    }
   ],
   "source": [
    "A.intersection(B)#Here, I found A intersection B by using A.intersection(B)#"
   ]
  },
  {
   "cell_type": "code",
   "execution_count": 23,
   "id": "112b0eae",
   "metadata": {},
   "outputs": [
    {
     "data": {
      "text/plain": [
       "True"
      ]
     },
     "execution_count": 23,
     "metadata": {},
     "output_type": "execute_result"
    }
   ],
   "source": [
    "A.issubset(B) #Here, I have found A is subset of B . A.issubset(B)#"
   ]
  },
  {
   "cell_type": "code",
   "execution_count": 13,
   "id": "28ed7b6c",
   "metadata": {},
   "outputs": [
    {
     "data": {
      "text/plain": [
       "False"
      ]
     },
     "execution_count": 13,
     "metadata": {},
     "output_type": "execute_result"
    }
   ],
   "source": [
    "A.isdisjoint(B)#Here, I have found A is disjoint of B#"
   ]
  },
  {
   "cell_type": "code",
   "execution_count": 14,
   "id": "ed7ee24a",
   "metadata": {},
   "outputs": [
    {
     "data": {
      "text/plain": [
       "{19, 20, 22, 24, 25, 26, 27, 28}"
      ]
     },
     "execution_count": 14,
     "metadata": {},
     "output_type": "execute_result"
    }
   ],
   "source": [
    "A.union(B) and B.union(A)#Here, I Joined A with B and B with A. A.union(B) and B.union(A)\n"
   ]
  },
  {
   "cell_type": "code",
   "execution_count": 15,
   "id": "de96f4af",
   "metadata": {},
   "outputs": [
    {
     "data": {
      "text/plain": [
       "{27, 28}"
      ]
     },
     "execution_count": 15,
     "metadata": {},
     "output_type": "execute_result"
    }
   ],
   "source": [
    "A.symmetric_difference(B)#Here, I found the symmetric difference between A and B."
   ]
  },
  {
   "cell_type": "code",
   "execution_count": 4,
   "id": "4a151b04",
   "metadata": {},
   "outputs": [
    {
     "ename": "NameError",
     "evalue": "name 'A' is not defined",
     "output_type": "error",
     "traceback": [
      "\u001b[1;31m---------------------------------------------------------------------------\u001b[0m",
      "\u001b[1;31mNameError\u001b[0m                                 Traceback (most recent call last)",
      "Input \u001b[1;32mIn [4]\u001b[0m, in \u001b[0;36m<cell line: 1>\u001b[1;34m()\u001b[0m\n\u001b[1;32m----> 1\u001b[0m \u001b[38;5;28;01mdel\u001b[39;00m A \u001b[38;5;66;03m#Here, I have deleted sets completely.\u001b[39;00m\n\u001b[0;32m      2\u001b[0m \u001b[38;5;28;01mdel\u001b[39;00m B\n",
      "\u001b[1;31mNameError\u001b[0m: name 'A' is not defined"
     ]
    }
   ],
   "source": [
    "del A #Here, I have deleted sets completely.\n",
    "del B"
   ]
  },
  {
   "cell_type": "code",
   "execution_count": 16,
   "id": "47e6084c",
   "metadata": {},
   "outputs": [
    {
     "data": {
      "text/plain": [
       "{19, 22, 24, 25, 26}"
      ]
     },
     "execution_count": 16,
     "metadata": {},
     "output_type": "execute_result"
    }
   ],
   "source": [
    "age_set=set(age)#Here, I Converted the ages to a set and compare the length of the list and the set.\n",
    "age_set"
   ]
  },
  {
   "cell_type": "code",
   "execution_count": 17,
   "id": "10d9eefc",
   "metadata": {},
   "outputs": [
    {
     "data": {
      "text/plain": [
       "(8, 5)"
      ]
     },
     "execution_count": 17,
     "metadata": {},
     "output_type": "execute_result"
    }
   ],
   "source": [
    "len(age),len(age_set)"
   ]
  },
  {
   "cell_type": "code",
   "execution_count": 32,
   "id": "3a3b9f66",
   "metadata": {},
   "outputs": [
    {
     "name": "stdout",
     "output_type": "stream",
     "text": [
      "Enter radius : 30\n"
     ]
    },
    {
     "data": {
      "text/plain": [
       "2826.0"
      ]
     },
     "execution_count": 32,
     "metadata": {},
     "output_type": "execute_result"
    }
   ],
   "source": [
    "#question 5\n",
    "radius=input('Enter radius : ')#Here, I  found area of circle. With given radius.\n",
    "radius=int(radius)\n",
    "_area_of_circle_=(3.14)*(radius**2)\n",
    "_area_of_circle_"
   ]
  },
  {
   "cell_type": "code",
   "execution_count": 34,
   "id": "281aec20",
   "metadata": {},
   "outputs": [
    {
     "name": "stdout",
     "output_type": "stream",
     "text": [
      "Enter radius : 30\n"
     ]
    },
    {
     "data": {
      "text/plain": [
       "188.4"
      ]
     },
     "execution_count": 34,
     "metadata": {},
     "output_type": "execute_result"
    }
   ],
   "source": [
    "radius=input('Enter radius : ')#Here, I have found circumference of circle.\n",
    "radius=int(radius)\n",
    "_circum_of_circle_=2*3.14*radius\n",
    "_circum_of_circle_"
   ]
  },
  {
   "cell_type": "code",
   "execution_count": 51,
   "id": "cf2f45bf",
   "metadata": {},
   "outputs": [
    {
     "data": {
      "text/plain": [
       "10"
      ]
     },
     "execution_count": 51,
     "metadata": {},
     "output_type": "execute_result"
    }
   ],
   "source": [
    "#question 6\n",
    "l1=\"I am a teacher and I love to inspire and teach people\"#Here, I have the split methods and set to get the unique words\n",
    "list_1=l1.split(' ')\n",
    "set_1=set(list_1)\n",
    "set_1\n",
    "len(set_1)"
   ]
  },
  {
   "cell_type": "code",
   "execution_count": 47,
   "id": "6f911e2f",
   "metadata": {
    "scrolled": true
   },
   "outputs": [
    {
     "name": "stdout",
     "output_type": "stream",
     "text": [
      "Name    Age    Country   City\n",
      "Asabeneh  250   Finlan   Helsinki\n"
     ]
    }
   ],
   "source": [
    "print('Name    Age    Country   City')#Here, I used a tab escape sequence to get the following lines.\n",
    "\n",
    "\n",
    "print('Asabeneh  250   Finlan   Helsinki')"
   ]
  },
  {
   "cell_type": "code",
   "execution_count": 18,
   "id": "dbcbc3de",
   "metadata": {},
   "outputs": [
    {
     "name": "stdout",
     "output_type": "stream",
     "text": [
      "The area of circle with radius 10 is 314.0 meter square\n"
     ]
    }
   ],
   "source": [
    "radius=10 #Here, I found area of circle\n",
    "area=3.14*radius**2\n",
    "print('The area of circle with radius',radius,'is',area,'meter square')"
   ]
  },
  {
   "cell_type": "code",
   "execution_count": 5,
   "id": "544d139b",
   "metadata": {},
   "outputs": [
    {
     "name": "stdout",
     "output_type": "stream",
     "text": [
      "Enter no.of elements :4\n",
      "150\n",
      "155\n",
      "145\n",
      "148\n"
     ]
    },
    {
     "data": {
      "text/plain": [
       "[68.0388555, 70.30681735, 65.77089365, 67.13167076]"
      ]
     },
     "execution_count": 5,
     "metadata": {},
     "output_type": "execute_result"
    }
   ],
   "source": [
    "num_list=[] #Here, I wrote program and converted weights from kgs to lbs.  \n",
    "weights_kgs=[]\n",
    "count=int(input('Enter no.of elements :'))\n",
    "for i in range(0,count):\n",
    "    num_list.append(int(input()))\n",
    "for i in num_list:\n",
    "    weights_kgs.append(i*0.45359237)\n",
    "weights_kgs"
   ]
  }
 ],
 "metadata": {
  "kernelspec": {
   "display_name": "Python 3 (ipykernel)",
   "language": "python",
   "name": "python3"
  },
  "language_info": {
   "codemirror_mode": {
    "name": "ipython",
    "version": 3
   },
   "file_extension": ".py",
   "mimetype": "text/x-python",
   "name": "python",
   "nbconvert_exporter": "python",
   "pygments_lexer": "ipython3",
   "version": "3.9.12"
  }
 },
 "nbformat": 4,
 "nbformat_minor": 5
}
